{
 "cells": [
  {
   "cell_type": "markdown",
   "source": [
    "## Zadanie 1\n",
    "Napisz implementacje funkcji loss bazując na poprzednim notebooku, a następnie porównaj loss dla zdjęcia org z zdjęciami b1 ... b5.\n",
    "Zrób wykresy ilustrujące loss względem każdego z zdjęć"
   ],
   "metadata": {
    "collapsed": false
   },
   "id": "dcb53900c4300d33"
  },
  {
   "cell_type": "code",
   "execution_count": null,
   "id": "initial_id",
   "metadata": {
    "collapsed": true
   },
   "outputs": [],
   "source": [
    "import torch\n",
    "import matplotlib.pyplot as pyplot\n",
    "from PIL import Image\n",
    "from torchvision import transforms\n",
    "\n",
    "losses = []\n",
    "names = []\n",
    "\n",
    "\n",
    "code here\n",
    "...\n",
    "\n",
    "\n",
    "\n",
    "fig, ax = pyplot.subplots()\n",
    "ax.bar(names, losses)\n",
    "ax.set_title('Losses for Different Names')\n",
    "ax.set_xlabel('Names')\n",
    "ax.set_ylabel('Losses')\n"
   ]
  },
  {
   "cell_type": "markdown",
   "source": [
    "## Zadanie 2\n",
    "Napisz i wytrenuj prosty model którego zadaniem bedzie klasyfikacja czy punkt znajduje sie wewnątrz koła jednostkowego czy może poza nim.\n",
    "Następnie spróbuj użyć Fourier Feature do zmapowania wejścia. \n",
    "Poeksperymentuj z różnymi rodzajami transformacji ( parametr L oraz mnożenie przez macierz B)\n",
    "Wyniki zilustruj wykresami"
   ],
   "metadata": {
    "collapsed": false
   },
   "id": "1a0ad94e1a961fde"
  },
  {
   "cell_type": "code",
   "execution_count": 10,
   "outputs": [],
   "source": [
    "import torch\n",
    "import torch.nn as nn\n",
    "import numpy as np\n",
    "import matplotlib.pyplot as plt\n",
    "from torch import optim\n",
    "\n",
    "L = 10  # liczba par sin,cos na które zmapowane bedą współrzędne \n",
    "N = 1000 # rozmiar danych wejsciowych\n",
    "E = 500 # liczba epok\n",
    "\n",
    "train = np.random.uniform(-2., 2., (N, 2))\n",
    "label_train = np.zeros(N)\n",
    "\n",
    "for i in range(N):\n",
    "    if np.linalg.norm(train[i]) < 1.0:\n",
    "        label_train[i] = 1\n",
    "\n",
    "data_train = torch.tensor(train, dtype=torch.float32)\n",
    "data_label_train= torch.tensor(label_train, dtype=torch.float32)\n",
    "\n",
    "test_size = N//6\n",
    "\n",
    "test = np.random.uniform(-2., 2., (test_size, 2))\n",
    "label_test = np.zeros(test_size)\n",
    "\n",
    "for i in range(test_size):\n",
    "    if np.linalg.norm(test[i]) < 1.0:\n",
    "        label_test[i] = 1\n",
    "\n",
    "data_test = torch.tensor(test, dtype=torch.float32)\n",
    "data_label_test= torch.tensor(label_test, dtype=torch.float32)"
   ],
   "metadata": {
    "collapsed": false,
    "ExecuteTime": {
     "end_time": "2023-12-18T23:03:32.599933Z",
     "start_time": "2023-12-18T23:03:32.596257Z"
    }
   },
   "id": "fec3f7225e18817b"
  },
  {
   "cell_type": "code",
   "execution_count": null,
   "outputs": [],
   "source": [
    "class FourierNet(nn.Module):\n",
    "    def __init__(self, L):\n",
    "        super(FourierNet, self).__init__()\n",
    "        ...\n",
    "        code here\n",
    "        ...\n",
    "\n",
    "    def forward(self, x):\n",
    "        ...\n",
    "        code here\n",
    "        ...\n",
    "        return x\n",
    "\n",
    "class RegularNet(nn.Module):\n",
    "    def __init__(self):\n",
    "        ...\n",
    "        code here\n",
    "        ...\n",
    "\n",
    "    def forward(self, x):\n",
    "        ...\n",
    "        code here\n",
    "        ...\n",
    "        return x"
   ],
   "metadata": {
    "collapsed": false
   },
   "id": "1cdc436a923dcd7e"
  },
  {
   "cell_type": "code",
   "execution_count": null,
   "outputs": [],
   "source": [
    "reg = RegularNet()\n",
    "criterion_reg = torch.nn.BCELoss() \n",
    "optimizer_reg = optim.Adam(reg.parameters(), lr=0.001)\n",
    "train_loss_reg = []\n",
    "test_loss_reg = []\n",
    "\n",
    "for epoch in range(E):\n",
    "    ...\n",
    "    petla uczaca dla RegularNet\n",
    "    ...\n",
    "    \n",
    "\n",
    "fourier = FourierNet()\n",
    "criterion_fourier = torch.nn.BCELoss() \n",
    "optimizer_fourier = optim.Adam(fourier.parameters(), lr=0.001)\n",
    "train_loss_fourier = []\n",
    "test_loss_fourier = []\n",
    "\n",
    "for epoch in range(E):\n",
    "     ...\n",
    "    petla uczaca dla FourierNet\n",
    "    ...\n",
    "    \n",
    "\n",
    "plt.figure(figsize=(12, 8))\n",
    "\n",
    "plt.plot(train_loss_reg, label='RegularNet Train Loss')\n",
    "plt.plot(test_loss_reg, label='RegularNet Test Loss')\n",
    "\n",
    "plt.plot(train_loss_fourier, label='FourierNet Train Loss')\n",
    "plt.plot(test_loss_fourier, label='FourierNet Test Loss')\n",
    "\n",
    "plt.title('Training and Test Losses ')\n",
    "plt.xlabel('Epoch')\n",
    "plt.ylabel('Loss')\n",
    "plt.legend()\n",
    "\n",
    "plt.show()"
   ],
   "metadata": {
    "collapsed": false
   },
   "id": "f6b86ef4dec879ee"
  },
  {
   "cell_type": "markdown",
   "source": [
    "## Zadanie 3\n",
    "Napisz i wytrenuj 2 modele których zadaniem bedzie zapamiętanie zdjęcia. Jeden z nich niech wykorzystuje Fourier Feature a drugi nie.\n",
    "Zdjęciem które bedzie należy zapamietać jest org.jpg ( dla ułatwienia można je przeskalować do rozmiarów 512 x 512 ).\n",
    "Dla modelu bez FF proponuje następującą strukture:\n",
    "Conv2d( 2,256,kernel_size=1,padding=0)\n",
    "ReLU()\n",
    "BatchNorm2d(256)\n",
    "Conv2d(256,256,kernel_size=1,padding=0)\n",
    "ReLU()\n",
    "BatchNorm2d(256)\n",
    "Conv2d(256,256,kernel_size=1,padding=0)\n",
    "ReLU()\n",
    "BatchNorm2d(256)\n",
    "Conv2d(256,3,kernel_size=1,padding=0)\n",
    "Sigmoid()\n",
    "\n",
    "dla modelu z FF proponuje taki model: (trzeba z 2 wejść zrobić 256)\n",
    "Conv2d( 256,256,kernel_size=1,padding=0)\n",
    "ReLU()\n",
    "BatchNorm2d(256)\n",
    "Conv2d(256,256,kernel_size=1,padding=0)\n",
    "ReLU()\n",
    "BatchNorm2d(256)\n",
    "Conv2d(256,256,kernel_size=1,padding=0)\n",
    "ReLU()\n",
    "BatchNorm2d(256)\n",
    "Conv2d(256,3,kernel_size=1,padding=0)\n",
    "Sigmoid()"
   ],
   "metadata": {
    "collapsed": false
   },
   "id": "67b893c3276ed864"
  },
  {
   "cell_type": "code",
   "execution_count": null,
   "outputs": [],
   "source": [],
   "metadata": {
    "collapsed": false
   },
   "id": "a1286e821bd52482"
  }
 ],
 "metadata": {
  "kernelspec": {
   "display_name": "Python 3",
   "language": "python",
   "name": "python3"
  },
  "language_info": {
   "codemirror_mode": {
    "name": "ipython",
    "version": 2
   },
   "file_extension": ".py",
   "mimetype": "text/x-python",
   "name": "python",
   "nbconvert_exporter": "python",
   "pygments_lexer": "ipython2",
   "version": "2.7.6"
  }
 },
 "nbformat": 4,
 "nbformat_minor": 5
}
